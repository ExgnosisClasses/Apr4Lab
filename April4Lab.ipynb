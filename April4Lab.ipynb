{
 "cells": [
  {
   "cell_type": "markdown",
   "id": "315b763b-1630-4b90-b668-26af3f6d208f",
   "metadata": {},
   "source": [
    "# Lab April 4\n",
    "\n",
    "## Overview\n",
    "\n",
    "This lab is intended to be executed in your lab machine.\n",
    "\n",
    "You can download this notebook by cloning this repository to somewhere on your machine\n",
    "\n",
    "```shell\n",
    "git clone https://github.com/ExgnosisClasses/Apr4Lab\n",
    "```\n",
    "Or you can open a browser in the VM and go the github repo and cut and paste\n",
    "\n",
    "If you have downloaded the repo, cd to the downloaded directory.\n",
    "\n",
    "If you care cutting and pasting from a browser in the VM, create the directory 'Apr4Lab' and cd into it\n",
    "\n",
    "Once you are in the directory, start jupyter lab. The code below is using a directory that may not be the same as yours\n",
    "\n",
    "```shell\n",
    "C:\\apr4>jupyter lab\n",
    "```\n",
    "\n",
    "Once jupyter lab is up and running, either open the prepared notebook or create a new one. We are not using virtual environments in the lab machines.\n",
    "\n"
   ]
  },
  {
   "cell_type": "markdown",
   "id": "659767e8-431a-41c9-aa95-c90925827555",
   "metadata": {},
   "source": [
    "## Part 1 Make sure all the tools are installed\n",
    "\n",
    "For this lab, we need to ensure install several libraries have been installed\n",
    "\n",
    "1. Numpy - the numeric computation library.\n",
    "2. Pandas - the dataframe library\n",
    "\n"
   ]
  },
  {
   "cell_type": "code",
   "execution_count": null,
   "id": "eb154418-9d62-4f6b-8d16-4714f6656c5f",
   "metadata": {},
   "outputs": [],
   "source": [
    "# Check for numpy\n",
    "import numpy as np\n",
    "print(np.__version__)"
   ]
  },
  {
   "cell_type": "markdown",
   "id": "a4fb6b53-e474-437c-9e28-473fa8aa6b34",
   "metadata": {},
   "source": [
    "If you got an error that numpy is not found, remove the '#' in the next cell and execute it.\n",
    "\n",
    "Then go back a rexecute the previous cell"
   ]
  },
  {
   "cell_type": "code",
   "execution_count": null,
   "id": "87cc6724-8a9c-41f6-a332-cb9e6ec7a3cb",
   "metadata": {},
   "outputs": [],
   "source": [
    "#!pip install numpy"
   ]
  },
  {
   "cell_type": "code",
   "execution_count": null,
   "id": "9d77454c-5f26-4aaa-a26d-d4b82e24041e",
   "metadata": {
    "scrolled": true
   },
   "outputs": [],
   "source": [
    "# Check for pandas\n",
    "import pandas as pd\n",
    "print(pd.__version__)"
   ]
  },
  {
   "cell_type": "markdown",
   "id": "9e509b4a-635c-41db-927a-7557dd7bb6fc",
   "metadata": {},
   "source": [
    "If pandas is not installed, you will see something like this\n",
    "\n",
    "```text\n",
    "---------------------------------------------------------------------------\n",
    "ModuleNotFoundError                       Traceback (most recent call last)\n",
    "Cell In[4], line 2\n",
    "      1 # Check for pandas\n",
    "----> 2 import pandas as pd\n",
    "      3 print(pd.__version__)\n",
    "\n",
    "ModuleNotFoundError: No module named 'pandas'\n",
    "```\n",
    "\n",
    "If you got this error remove the '#' in the next cell and execute it.\n",
    "\n",
    "Then go back a rexecute the previous cell\n"
   ]
  },
  {
   "cell_type": "code",
   "execution_count": null,
   "id": "257b8c19-0523-44c1-954f-26c4527bd596",
   "metadata": {},
   "outputs": [],
   "source": [
    "#!pip install pandas\n"
   ]
  },
  {
   "cell_type": "code",
   "execution_count": null,
   "id": "96707de2-4804-4506-a1af-0c13f80c90a4",
   "metadata": {},
   "outputs": [],
   "source": [
    "# surpress deprecated warnings\n",
    "import warnings\n",
    "\n",
    "# Ignore all warnings\n",
    "warnings.filterwarnings('ignore')"
   ]
  },
  {
   "cell_type": "markdown",
   "id": "14566e3c-9eaf-4711-9a3f-a9765f120513",
   "metadata": {},
   "source": [
    "## Step one. Create the data\n",
    "\n",
    "This is the starting data.\n",
    "\n",
    "1. We create the data.\n",
    "2. Load it into a data frame\n",
    "3. Display the data frame"
   ]
  },
  {
   "cell_type": "code",
   "execution_count": null,
   "id": "55a9b5a6-16f9-47b5-8bff-18c140ad3cd9",
   "metadata": {},
   "outputs": [],
   "source": [
    "data = {\n",
    "    'Name': ['Alice', 'BOB', 'Charlie', 'David', 'Eve', None, 'frank', 'Alice'],\n",
    "    'Age': [25, 30, np.nan, 45, 'unknown', 22, 30, 25],\n",
    "    'Email': ['alice@mail.com', 'BOB@EMAIL.com', None, 'david@mail.com', 'eve@mail.com',\n",
    "              'eve@mail.com', 'frank@mail.com', 'alice@mail.com'],\n",
    "    'SignupDate': ['2021-01-01', '2021-02-15', 'not available', '2021-03-10', '2021-02-15',\n",
    "                   '2021-01-01', None, '2021-01-01'],\n",
    "    'Score': ['85', 90, 88, '91', 76, 'eighty', 77, 85]\n",
    "}\n",
    "df = pd.DataFrame(data)\n",
    "df\n",
    "# df is a data frame\n",
    "df = pd.DataFrame(data)\n",
    "df"
   ]
  },
  {
   "cell_type": "markdown",
   "id": "1d60dd6a-b174-4011-9000-84c5a92b7064",
   "metadata": {},
   "source": [
    "##  Step 2: Inspect the Data\n",
    "\n",
    "Use some of the data visualization tools to inspect the data"
   ]
  },
  {
   "cell_type": "code",
   "execution_count": null,
   "id": "04db1807-47c8-4c21-9827-db6022153cdf",
   "metadata": {},
   "outputs": [],
   "source": [
    "# View first few rows\n",
    "print(df.head())\n",
    "\n",
    "# Summary info\n",
    "print(\"\\nSummary Info\")\n",
    "df.info()\n",
    "\n",
    "# Check for null values\n",
    "print(\"\\nCheck for null values by colums\")\n",
    "print(df.isnull().sum())\n",
    "\n",
    "# Get column data types\n",
    "print(\"\\nData type for each column\")\n",
    "print(df.dtypes)\n",
    "\n",
    "# View duplicates\n",
    "print(\"\\nDhe number of duplicates\")\n",
    "print(df.duplicated().sum())\n",
    "\n",
    "# Unique values per column\n",
    "print(\"\\nThe number of unique values per colum\")\n",
    "df.nunique()"
   ]
  },
  {
   "attachments": {
    "eb1a39be-9992-4d13-807a-7a8f119ebcb4.png": {
     "image/png": "[encoded data removed]"
    }
   },
   "cell_type": "markdown",
   "id": "90423a19-a350-4c54-a416-d5588eb67e50",
   "metadata": {},
   "source": [
    "#### The Output\n",
    "- Strings in dataframes are text objects\n",
    "- But everything is a string because the data was created as a chunk of text\n",
    "- This is typical of importing data from csv files, etc.\n",
    "- We would like to have data in meaniful data representations like this:\n",
    "\n",
    "![image.png](attachment:eb1a39be-9992-4d13-807a-7a8f119ebcb4.png)"
   ]
  },
  {
   "cell_type": "markdown",
   "id": "c333c445-571d-4049-94e0-f5cfa4aa45cc",
   "metadata": {},
   "source": [
    "## Step 3: Handle Missing Values\n",
    "\n",
    "`df['Name'] = df['Name'].fillna('Unknown')`\n",
    "- Replaces any NaN (missing) values in the Name column with the string 'Unknown'.\n",
    "- Missing names could break logic later (e.g., grouping, filtering).\n",
    "- It's common to fill missing text fields with a placeholder.\n",
    "\n",
    "`df['Email'] = df['Email'].fillna('noemail@unknown.com')`\n",
    "- Fills missing values in the Email column with a default placeholder email.\n",
    "- Ensures all rows have an email, even if it's fake.\n",
    "- Helpful when exporting or joining with other data that requires non-null emails.\n",
    "\n",
    "`df['SignupDate'] = df['SignupDate'].replace('not available', np.nan)`\n",
    "- Finds any cells in SignupDate that literally say 'not available' and replaces them with np.nan (missing value).\n",
    "- 'not available' is a placeholder string pretending to be a missing value.\n",
    "- Converting it to np.nan makes it easier to handle using pandas tools (fillna(), date parsing, etc.)."
   ]
  },
  {
   "cell_type": "code",
   "execution_count": null,
   "id": "9e754767-5fbe-4c0a-bc9a-240568a3dce8",
   "metadata": {},
   "outputs": [],
   "source": [
    "df['Name'] = df['Name'].fillna('Unknown')\n",
    "df['Email'] = df['Email'].fillna('noemail@unknown.com')\n",
    "df['SignupDate'] = df['SignupDate'].replace('not available', np.nan)\n"
   ]
  },
  {
   "cell_type": "code",
   "execution_count": null,
   "id": "f4b4ad90-348f-4f3f-a8c9-6589de693fec",
   "metadata": {},
   "outputs": [],
   "source": [
    "# show results\n",
    "df"
   ]
  },
  {
   "cell_type": "markdown",
   "id": "fc9bb6da-4b79-46aa-878d-223b4e884357",
   "metadata": {},
   "source": [
    "## Step 4: Convert data types\n",
    "\n",
    "In the examples. the `errors='coerce'` means that bad data should just be replaced with NaN instead of crashing"
   ]
  },
  {
   "cell_type": "code",
   "execution_count": null,
   "id": "8dd56549-a680-4a23-bb34-2c47c46f2fe7",
   "metadata": {},
   "outputs": [],
   "source": [
    "# Convert Age column to numeric\n",
    "df['Age'] = pd.to_numeric(df['Age'], errors='coerce')\n",
    "\n",
    "# Convert Score to numeric\n",
    "df['Score'] = pd.to_numeric(df['Score'], errors='coerce')\n",
    "\n",
    "# Convert SignupDate to datetime\n",
    "df['SignupDate'] = pd.to_datetime(df['SignupDate'], errors='coerce')"
   ]
  },
  {
   "cell_type": "markdown",
   "id": "aa0fd31a-2198-4904-ba77-9584d2ffe484",
   "metadata": {},
   "source": [
    "## Step 5: Fill Missing Values Intelligently"
   ]
  },
  {
   "cell_type": "code",
   "execution_count": null,
   "id": "fe15e72f-c30e-4588-94b0-cd2ba49ae3ed",
   "metadata": {},
   "outputs": [],
   "source": [
    "df['Age'] = df['Age'].fillna(df['Age'].median())\n",
    "df['Score'] = df['Score'].fillna(df['Score'].mean())\n",
    "df['SignupDate'] = df['SignupDate'].fillna(method='bfill')  # or 'ffill'"
   ]
  },
  {
   "cell_type": "code",
   "execution_count": null,
   "id": "2069ceed-3cf8-46ec-bf8b-b0bbb96efbcf",
   "metadata": {},
   "outputs": [],
   "source": [
    "#check the data\n",
    "df"
   ]
  },
  {
   "cell_type": "markdown",
   "id": "f0cc800a-9034-4dc0-ba63-41851ac0e406",
   "metadata": {},
   "source": [
    "## Step 6: Remove Duplicates and normalize strings"
   ]
  },
  {
   "cell_type": "code",
   "execution_count": null,
   "id": "dbc8cf17-2693-4d1e-bfcd-2123a70cf87f",
   "metadata": {},
   "outputs": [],
   "source": [
    "df = df.drop_duplicates()\n",
    "\n",
    "df['Name'] = df['Name'].str.title()\n",
    "df['Email'] = df['Email'].str.lower()"
   ]
  },
  {
   "cell_type": "code",
   "execution_count": null,
   "id": "ee1aad86-13c6-4dd9-9838-b258f30a0de7",
   "metadata": {},
   "outputs": [],
   "source": [
    "# Check the data\n",
    "df"
   ]
  },
  {
   "cell_type": "markdown",
   "id": "8fe4a4d9-c71c-4ab7-bc11-66c42408c182",
   "metadata": {},
   "source": [
    "## Step 7: Feature Engineering\n"
   ]
  },
  {
   "cell_type": "code",
   "execution_count": null,
   "id": "f269aa87-2ad8-4e64-b6d6-5976645c4c6a",
   "metadata": {},
   "outputs": [],
   "source": [
    "# Add a Signup Year column:\n",
    "df['SignupYear'] = df['SignupDate'].dt.year\n",
    "\n",
    "df"
   ]
  },
  {
   "cell_type": "code",
   "execution_count": null,
   "id": "94776fb4-cd22-4e9e-86c3-caf45d3d506b",
   "metadata": {},
   "outputs": [],
   "source": [
    "# Extract Email Provider:\n",
    "df['EmailProvider'] = df['Email'].str.split('@').str[1]\n",
    "df"
   ]
  },
  {
   "cell_type": "code",
   "execution_count": null,
   "id": "6fb9d651-4ae0-48b1-bfd4-e1031ec84463",
   "metadata": {},
   "outputs": [],
   "source": [
    "# Create Age Category:\n",
    "\n",
    "def categorize_age(age):\n",
    "    if age < 30:\n",
    "        return 'Young'\n",
    "    elif age < 45:\n",
    "        return 'Middle-aged'\n",
    "    else:\n",
    "        return 'Senior'\n",
    "\n",
    "df['AgeGroup'] = df['Age'].apply(categorize_age)\n",
    "\n",
    "df"
   ]
  },
  {
   "cell_type": "markdown",
   "id": "11281ee7-8265-45f0-9b42-aa16a3fd874b",
   "metadata": {},
   "source": [
    "## Cleaned Data"
   ]
  },
  {
   "cell_type": "code",
   "execution_count": null,
   "id": "b9a13b43-77bf-4140-b2e6-be70b589051a",
   "metadata": {},
   "outputs": [],
   "source": [
    "print(df.info())\n",
    "print(\"\\n---------------------------\")\n",
    "print(df.describe())\n",
    "print(\"\\n---------------------------\")\n",
    "df"
   ]
  },
  {
   "cell_type": "code",
   "execution_count": null,
   "id": "fe8aa312-e83b-49ea-af1e-cdbb9af670a2",
   "metadata": {},
   "outputs": [],
   "source": []
  }
 ],
 "metadata": {
  "kernelspec": {
   "display_name": "April 4",
   "language": "python",
   "name": "apr4"
  },
  "language_info": {
   "codemirror_mode": {
    "name": "ipython",
    "version": 3
   },
   "file_extension": ".py",
   "mimetype": "text/x-python",
   "name": "python",
   "nbconvert_exporter": "python",
   "pygments_lexer": "ipython3",
   "version": "3.13.2"
  }
 },
 "nbformat": 4,
 "nbformat_minor": 5
}
